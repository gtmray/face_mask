{
  "nbformat": 4,
  "nbformat_minor": 0,
  "metadata": {
    "colab": {
      "name": "Face mask.ipynb",
      "provenance": [],
      "collapsed_sections": [],
      "authorship_tag": "ABX9TyOAvY626FKtTS5OxwSmKXVl",
      "include_colab_link": true
    },
    "kernelspec": {
      "name": "python3",
      "display_name": "Python 3"
    },
    "accelerator": "GPU"
  },
  "cells": [
    {
      "cell_type": "markdown",
      "metadata": {
        "id": "view-in-github",
        "colab_type": "text"
      },
      "source": [
        "<a href=\"https://colab.research.google.com/github/gtmray/face_mask/blob/master/Training.ipynb\" target=\"_parent\"><img src=\"https://colab.research.google.com/assets/colab-badge.svg\" alt=\"Open In Colab\"/></a>"
      ]
    },
    {
      "cell_type": "code",
      "metadata": {
        "id": "KCQ8D2hkLNMx",
        "outputId": "49a59e31-66f6-4ad3-a58c-c2435bbfdc02",
        "colab": {
          "base_uri": "https://localhost:8080/",
          "height": 146
        }
      },
      "source": [
        "!git clone https://github.com/chandrikadeb7/Face-Mask-Detection.git"
      ],
      "execution_count": 1,
      "outputs": [
        {
          "output_type": "stream",
          "text": [
            "Cloning into 'Face-Mask-Detection'...\n",
            "remote: Enumerating objects: 1, done.\u001b[K\n",
            "remote: Counting objects: 100% (1/1), done.\u001b[K\n",
            "remote: Total 3914 (delta 0), reused 0 (delta 0), pack-reused 3913\u001b[K\n",
            "Receiving objects: 100% (3914/3914), 148.67 MiB | 8.95 MiB/s, done.\n",
            "Resolving deltas: 100% (73/73), done.\n",
            "Checking out files: 100% (3870/3870), done.\n"
          ],
          "name": "stdout"
        }
      ]
    },
    {
      "cell_type": "code",
      "metadata": {
        "id": "Wtf6eAOhUZaT"
      },
      "source": [
        "import shutil\n",
        "shutil.move('/content/Face-Mask-Detection/dataset', '/content')\n",
        "shutil.rmtree('/content/Face-Mask-Detection/')"
      ],
      "execution_count": 2,
      "outputs": []
    },
    {
      "cell_type": "code",
      "metadata": {
        "id": "-43TRDifLOUq"
      },
      "source": [
        "import numpy as np\n",
        "import pandas as pd\n",
        "from sklearn.metrics import confusion_matrix\n",
        "from sklearn.model_selection import train_test_split\n",
        "\n",
        "import tensorflow as tf\n",
        "from tensorflow import keras\n",
        "from tensorflow.keras.models import Sequential\n",
        "from tensorflow.keras.layers import Activation, Dense, Flatten, BatchNormalization, Conv2D, MaxPool2D\n",
        "from tensorflow.keras.optimizers import Adam, SGD\n",
        "from tensorflow.keras.metrics import categorical_crossentropy\n",
        "from tensorflow.keras.preprocessing.image import ImageDataGenerator\n",
        "\n",
        "import os, random"
      ],
      "execution_count": 3,
      "outputs": []
    },
    {
      "cell_type": "code",
      "metadata": {
        "id": "W7q__gohLP_i"
      },
      "source": [
        "physical_devices = tf.config.experimental.list_physical_devices('GPU')\n",
        "if physical_devices:\n",
        "  tf.config.experimental.set_memory_growth(physical_devices[0], True)"
      ],
      "execution_count": 4,
      "outputs": []
    },
    {
      "cell_type": "code",
      "metadata": {
        "id": "FFrSwgBBLkm2"
      },
      "source": [
        "os.chdir('/content')\n",
        "os.makedirs('test/with_mask')\n",
        "os.makedirs('test/without_mask')\n",
        "\n",
        "def change_dir_test(dirpath, destDirectory):\n",
        "  filenames = random.sample(os.listdir(dirpath), 150)\n",
        "  for fname in filenames:\n",
        "      srcpath = os.path.join(dirpath, fname)\n",
        "      shutil.move(srcpath, destDirectory)\n",
        "  os.chdir('/content')\n",
        "\n",
        "dirpath_wm_test = '/content/dataset/with_mask'\n",
        "destDirectory_wm_test = 'test/with_mask'\n",
        "change_dir_test(dirpath_wm_test, destDirectory_wm_test)\n",
        "\n",
        "dirpath_wt_test = '/content/dataset/without_mask'\n",
        "destDirectory_wt_test = 'test/without_mask'\n",
        "change_dir_test(dirpath_wt_test, destDirectory_wt_test)"
      ],
      "execution_count": 5,
      "outputs": []
    },
    {
      "cell_type": "code",
      "metadata": {
        "id": "ZTMmzfF-Lna5"
      },
      "source": [
        "os.chdir('/content')\n",
        "os.makedirs('train/with_mask')\n",
        "os.makedirs('train/without_mask')\n",
        "\n",
        "dirpath_wm_train = '/content/dataset/with_mask'\n",
        "destDirectory_wm_train = 'train/with_mask'\n",
        "\n",
        "dirpath_wt_train = '/content/dataset/without_mask'\n",
        "destDirectory_wt_train = 'train/without_mask'\n",
        "\n",
        "def change_dir_train(dirpath, destDirectory):\n",
        "  filenames = os.listdir(dirpath)\n",
        "  for fname in filenames:\n",
        "      srcpath = os.path.join(dirpath, fname)\n",
        "      shutil.move(srcpath, destDirectory)\n",
        "  os.chdir('/content')\n",
        "\n",
        "change_dir_train(dirpath_wm_train, destDirectory_wm_train)\n",
        "change_dir_train(dirpath_wt_train, destDirectory_wt_train)"
      ],
      "execution_count": 7,
      "outputs": []
    },
    {
      "cell_type": "code",
      "metadata": {
        "id": "WyMRjt_LNeWx",
        "outputId": "961f7d32-9df1-4c53-b004-81fc37602775",
        "colab": {
          "base_uri": "https://localhost:8080/",
          "height": 73
        }
      },
      "source": [
        "#Data preprocessing\n",
        "\n",
        "train_path = '/content/train'\n",
        "valid_path = '/content/test'\n",
        "\n",
        "train_batches = ImageDataGenerator(preprocessing_function=keras.applications.vgg16.preprocess_input).flow_from_directory(directory=train_path, target_size=(120, 120), classes=['with_mask', 'without_mask'], batch_size=10)\n",
        "valid_batches = ImageDataGenerator(preprocessing_function=keras.applications.vgg16.preprocess_input).flow_from_directory(directory=valid_path, target_size=(120, 120), classes=['with_mask', 'without_mask'], batch_size=10)\n",
        "\n",
        "\"\"\"CREATING A CNN MODEL\"\"\"\n",
        "\n",
        "model = Sequential([\n",
        "                    Conv2D(filters=32, kernel_size=(3, 3), activation='relu', padding='same', input_shape=(100, 100, 3)),\n",
        "                    MaxPool2D(pool_size=(2, 2), strides=2),\n",
        "                    Conv2D(filters=64, kernel_size=(3, 3), activation='relu', padding='same'),\n",
        "                    MaxPool2D(pool_size=(2, 2), strides=2),\n",
        "                    Flatten(),\n",
        "                    Dense(units=2, activation='softmax')\n",
        "])\n",
        "\n",
        "model.summary()\n",
        "\n",
        "\"\"\"TRAINING THE MODEL\"\"\"\n",
        "\n",
        "model.compile(optimizer=Adam(learning_rate=0.001), loss='categorical_crossentropy', metrics=['accuracy'])\n",
        "\n",
        "model.fit(x=train_batches ,validation_data=valid_batches, epochs=25, verbose=2)\n",
        "model.save('model.h5')"
      ],
      "execution_count": 10,
      "outputs": [
        {
          "output_type": "stream",
          "text": [
            "Found 3546 images belonging to 2 classes.\n",
            "Found 300 images belonging to 2 classes.\n"
          ],
          "name": "stdout"
        },
        {
          "output_type": "execute_result",
          "data": {
            "application/vnd.google.colaboratory.intrinsic+json": {
              "type": "string"
            },
            "text/plain": [
              "'CREATING A CNN MODEL'"
            ]
          },
          "metadata": {
            "tags": []
          },
          "execution_count": 10
        }
      ]
    },
    {
      "cell_type": "code",
      "metadata": {
        "id": "-w4rvKqqai6u"
      },
      "source": [
        ""
      ],
      "execution_count": 13,
      "outputs": []
    },
    {
      "cell_type": "code",
      "metadata": {
        "id": "t7ETDXte4Fs8"
      },
      "source": [
        ""
      ],
      "execution_count": 10,
      "outputs": []
    },
    {
      "cell_type": "code",
      "metadata": {
        "id": "f0Nq6B-B33Mg"
      },
      "source": [
        ""
      ],
      "execution_count": 10,
      "outputs": []
    },
    {
      "cell_type": "code",
      "metadata": {
        "id": "l9JcyqsP5NdG"
      },
      "source": [
        ""
      ],
      "execution_count": 10,
      "outputs": []
    },
    {
      "cell_type": "code",
      "metadata": {
        "id": "uThJ8aeGRS7X"
      },
      "source": [
        ""
      ],
      "execution_count": 10,
      "outputs": []
    },
    {
      "cell_type": "code",
      "metadata": {
        "id": "hwjIN9N6OZ8Z"
      },
      "source": [
        ""
      ],
      "execution_count": 10,
      "outputs": []
    },
    {
      "cell_type": "code",
      "metadata": {
        "id": "g_3bA3OFPzRT"
      },
      "source": [
        ""
      ],
      "execution_count": 13,
      "outputs": []
    },
    {
      "cell_type": "code",
      "metadata": {
        "id": "cyb0Apj7ie8n"
      },
      "source": [
        ""
      ],
      "execution_count": 13,
      "outputs": []
    },
    {
      "cell_type": "code",
      "metadata": {
        "id": "SxhOE5ylTn3Q"
      },
      "source": [
        ""
      ],
      "execution_count": null,
      "outputs": []
    },
    {
      "cell_type": "code",
      "metadata": {
        "id": "VbvS7JnJV7Xi"
      },
      "source": [
        ""
      ],
      "execution_count": null,
      "outputs": []
    },
    {
      "cell_type": "code",
      "metadata": {
        "id": "CrOBz1nprCwU"
      },
      "source": [
        ""
      ],
      "execution_count": null,
      "outputs": []
    }
  ]
}